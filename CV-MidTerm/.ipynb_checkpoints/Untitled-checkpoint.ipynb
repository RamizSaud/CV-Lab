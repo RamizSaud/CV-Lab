{
 "cells": [
  {
   "cell_type": "code",
   "execution_count": null,
   "id": "70b256f4-6a43-48cb-ac1d-e37edfca611d",
   "metadata": {},
   "outputs": [],
   "source": [
    "from tensorflow.keras.preprocessing.image import ImageDataGenerator\n",
    "\n",
    "train_datagen = ImageDataGenerator(rescale=1./255,\n",
    "                                   rotation_range=40,\n",
    "                                   width_shift_range=0.2,\n",
    "                                   height_shift_range=0.2,\n",
    "                                   shear_range=0.2,\n",
    "                                   zoom_range=0.2,\n",
    "                                   horizontal_flip=True,\n",
    "                                   fill_mode='nearest')\n",
    "\n",
    "test_datagen = ImageDataGenerator(rescale=1./255)  # Only rescaling for test data"
   ]
  },
  {
   "cell_type": "code",
   "execution_count": null,
   "id": "b7f39761-be6c-426d-8acc-2053ec9b3b66",
   "metadata": {},
   "outputs": [],
   "source": [
    "train_generator = train_datagen.flow_from_directory(\n",
    "        train_dir,  # This is the target directory\n",
    "        target_size=(150, 150),  # All images will be resized\n",
    "        batch_size=32,\n",
    "        class_mode='binary') # Use 'categorical' for multi-class classification\n",
    "\n",
    "validation_generator = test_datagen.flow_from_directory(\n",
    "        validation_dir,\n",
    "        target_size=(150, 150),\n",
    "        batch_size=32,\n",
    "        class_mode='binary')"
   ]
  },
  {
   "cell_type": "code",
   "execution_count": null,
   "id": "4f109ebd-c817-4c85-999c-64a8beeca914",
   "metadata": {},
   "outputs": [],
   "source": [
    "import matplotlib.pyplot as plt\n",
    "\n",
    "def plot_images(images_arr):\n",
    "    fig, axes = plt.subplots(1, 5, figsize=(20,20))\n",
    "    axes = axes.flatten()\n",
    "    for img, ax in zip( images_arr, axes):\n",
    "        ax.imshow(img)\n",
    "        ax.axis('off')\n",
    "    plt.tight_layout()\n",
    "    plt.show()\n",
    "\n",
    "images = [train_generator[0][0][i] for i in range(5)]\n",
    "plot_images(images)"
   ]
  },
  {
   "cell_type": "code",
   "execution_count": null,
   "id": "4ed30487-dcdb-4b9f-8083-e0f905dd483c",
   "metadata": {},
   "outputs": [],
   "source": [
    "import tensorflow as tf\n",
    "\n",
    "model = tf.keras.models.Sequential([\n",
    "    tf.keras.layers.Conv2D(32, (3,3), activation='relu', input_shape=(150, 150, 3)),\n",
    "    tf.keras.layers.MaxPooling2D(2, 2),\n",
    "    tf.keras.layers.Conv2D(64, (3,3), activation='relu'),\n",
    "    tf.keras.layers.MaxPooling2D(2,2),\n",
    "    tf.keras.layers.Conv2D(128, (3,3), activation='relu'),\n",
    "    tf.keras.layers.MaxPooling2D(2,2),\n",
    "    tf.keras.layers.Conv2D(128, (3,3), activation='relu'),\n",
    "    tf.keras.layers.MaxPooling2D(2,2),\n",
    "    tf.keras.layers.Flatten(),\n",
    "    tf.keras.layers.Dense(512, activation='relu'),\n",
    "    tf.keras.layers.Dense(1, activation='sigmoid')  # Use 'softmax' for multi-class classification\n",
    "])\n",
    "\n",
    "model.compile(loss='binary_crossentropy',  # Use 'categorical_crossentropy' for multi-class\n",
    "              optimizer=tf.keras.optimizers.RMSprop(learning_rate=0.001),\n",
    "              metrics=['accuracy'])"
   ]
  },
  {
   "cell_type": "code",
   "execution_count": null,
   "id": "6cf740e2-5def-4984-93f1-6a056377be73",
   "metadata": {},
   "outputs": [],
   "source": [
    "history = model.fit(\n",
    "      train_generator,\n",
    "      steps_per_epoch=100,  # total train images / batch size\n",
    "      epochs=100,\n",
    "      validation_data=validation_generator,\n",
    "      validation_steps=50,  # total validation images / batch size\n",
    "      verbose=2)"
   ]
  },
  {
   "cell_type": "code",
   "execution_count": null,
   "id": "b937217e-d234-4d75-b6f0-91d15ad15992",
   "metadata": {},
   "outputs": [],
   "source": [
    "eval_result = model.evaluate(validation_generator)\n",
    "print(f\"Test Loss: {eval_result[0]}, Test Accuracy: {eval_result[1]}\")"
   ]
  },
  {
   "cell_type": "code",
   "execution_count": null,
   "id": "cacbd253-73d1-4661-80f0-defd77fc9e5a",
   "metadata": {},
   "outputs": [],
   "source": [
    "import numpy as np\n",
    "\n",
    "# Assuming `test_images` is your dataset for predictions\n",
    "predictions = model.predict(test_images)\n",
    "predicted_class_indices = np.argmax(predictions, axis=-1)\n",
    "\n",
    "# For binary classification\n",
    "# predicted_class_indices = (predictions > 0.5).astype(\"int32\")"
   ]
  },
  {
   "cell_type": "code",
   "execution_count": null,
   "id": "3a5989b7-788c-4bf7-b102-516e2210cd76",
   "metadata": {},
   "outputs": [],
   "source": [
    "from tensorflow.keras.preprocessing.image import img_to_array, load_img\n",
    "import numpy as np\n",
    "\n",
    "def preprocess_image(image_path, target_size=(150, 150)):\n",
    "    # Load the image\n",
    "    img = load_img(image_path, target_size=target_size)\n",
    "    # Convert the image to a numpy array\n",
    "    img_array = img_to_array(img)\n",
    "    # Scale the image pixels to be between 0 and 1\n",
    "    img_array /= 255.0\n",
    "    # Expand the dimensions so the input array shape becomes (1, height, width, channels)\n",
    "    img_array = np.expand_dims(img_array, axis=0)\n",
    "    return img_array"
   ]
  },
  {
   "cell_type": "code",
   "execution_count": null,
   "id": "d9abdc11-ba30-4a88-a092-f973eb7eaa46",
   "metadata": {},
   "outputs": [],
   "source": [
    "test_image_paths = [\"path/to/image1.jpg\", \"path/to/image2.jpg\", ...]  # List of image paths\n",
    "preprocessed_images = np.vstack([preprocess_image(path) for path in test_image_paths])"
   ]
  },
  {
   "cell_type": "code",
   "execution_count": null,
   "id": "9eee9fc9-50b4-42d2-bf35-9a7f32da019a",
   "metadata": {},
   "outputs": [],
   "source": [
    "# Assuming you have a list of test image paths\n",
    "test_image_paths = [\"path/to/image1.jpg\", \"path/to/image2.jpg\", ...]\n",
    "\n",
    "# Preprocess the images\n",
    "preprocessed_images = np.vstack([preprocess_image(path) for path in test_image_paths])\n",
    "\n",
    "# Make predictions\n",
    "predictions = model.predict(preprocessed_images)\n",
    "\n",
    "# Interpret predictions\n",
    "# For binary classification:\n",
    "predicted_classes_binary = (predictions > 0.5).astype(int)\n",
    "# For multi-class classification:\n",
    "predicted_classes_multi = np.argmax(predictions, axis=-1)\n",
    "\n",
    "# Now you can use `predicted_classes_binary` or `predicted_classes_multi` depending on your task"
   ]
  },
  {
   "cell_type": "code",
   "execution_count": null,
   "id": "4e3443dd-1ee1-4bb7-aa76-60a6d5c37e36",
   "metadata": {},
   "outputs": [],
   "source": [
    "import matplotlib.pyplot as plt\n",
    "\n",
    "def plot_images_with_predictions(images, true_labels, predictions, class_names=['Class 0', 'Class 1'], n=5):\n",
    "    \"\"\"\n",
    "    Visualize the first n images with their predicted and true labels.\n",
    "    \n",
    "    :param images: The array of preprocessed images.\n",
    "    :param true_labels: The true labels for the images.\n",
    "    :param predictions: The model's predicted probabilities for class 1.\n",
    "    :param class_names: The names of the classes.\n",
    "    :param n: The number of images to display.\n",
    "    \"\"\"\n",
    "    # Select the first n images, true labels, and predictions\n",
    "    images = images[:n]\n",
    "    true_labels = true_labels[:n]\n",
    "    predictions = predictions[:n]\n",
    "    \n",
    "    # Set up the matplotlib figure and axes\n",
    "    plt.figure(figsize=(2*n, 4))\n",
    "    for i in range(n):\n",
    "        # Display images\n",
    "        plt.subplot(1, n, i+1)\n",
    "        plt.imshow(images[i].squeeze(), cmap='gray')  # Adjust color map or remove it depending on your images\n",
    "        plt.axis('off')\n",
    "        \n",
    "        # Get predicted label by checking if prediction > 0.5\n",
    "        pred_label = 1 if predictions[i] > 0.5 else 0\n",
    "        color = 'green' if pred_label == true_labels[i] else 'red'\n",
    "        \n",
    "        # Title will show predicted and true labels\n",
    "        plt.title(f'Pred: {class_names[pred_label]}\\nTrue: {class_names[true_labels[i]]}', color=color)\n",
    "\n",
    "    plt.show()\n",
    "\n",
    "# Assuming `preprocessed_images` is your array of test images and is not normalized between 0 and 1 for visualization purposes\n",
    "# If your `preprocessed_images` were normalized, you might need to denormalize them for visualization.\n",
    "plot_images_with_predictions(preprocessed_images, true_labels, predictions[:,0], class_names=['Not Class 1', 'Class 1'], n=5)"
   ]
  },
  {
   "cell_type": "code",
   "execution_count": null,
   "id": "72d7f4fd-40d9-40ae-9202-0838438add84",
   "metadata": {},
   "outputs": [],
   "source": [
    "from sklearn.metrics import accuracy_score, precision_score, recall_score, f1_score\n",
    "\n",
    "# true_labels: The true labels for your test dataset\n",
    "# predicted_classes: The predicted labels for your test dataset (use predicted_classes_binary or predicted_classes_multi)\n",
    "\n",
    "# Calculate metrics\n",
    "accuracy = accuracy_score(true_labels, predicted_classes)\n",
    "precision = precision_score(true_labels, predicted_classes, average='binary')  # For binary classification, for multi-class use 'micro', 'macro', or 'weighted'\n",
    "recall = recall_score(true_labels, predicted_classes, average='binary')  # Same as precision\n",
    "f1 = f1_score(true_labels, predicted_classes, average='binary')  # Same as precision\n",
    "\n",
    "# Print metrics\n",
    "print(f'Accuracy: {accuracy:.4f}')\n",
    "print(f'Precision: {precision:.4f}')\n",
    "print(f'Recall: {recall:.4f}')\n",
    "print(f'F1 Score: {f1:.4f}')"
   ]
  },
  {
   "cell_type": "code",
   "execution_count": null,
   "id": "2176ae5b-e024-44ac-9443-f871a23d4157",
   "metadata": {},
   "outputs": [],
   "source": [
    "# Assuming `validation_generator` is your data generator\n",
    "\n",
    "# Initialize an empty array to store the true labels\n",
    "true_labels = []\n",
    "\n",
    "# Iterate over the generator to extract true labels\n",
    "for _, labels_batch in validation_generator:\n",
    "    true_labels.extend(labels_batch)\n",
    "    # Check if we've gone through all data\n",
    "    if len(true_labels) >= validation_generator.samples:\n",
    "        break\n",
    "\n",
    "# Convert the list of true labels to a numpy array for further processing\n",
    "true_labels = np.array(true_labels)\n",
    "\n",
    "# If your labels are one-hot encoded, you might want to convert them to integer labels\n",
    "# true_labels = np.argmax(true_labels, axis=1)  # Uncomment this line if needed"
   ]
  },
  {
   "cell_type": "code",
   "execution_count": null,
   "id": "740c4323-0c59-4dc5-9bb2-02e94564115f",
   "metadata": {},
   "outputs": [],
   "source": [
    "# Predicting probabilities for the positive class\n",
    "predictions = model.predict(images)\n",
    "\n",
    "# Converting probabilities to class labels based on a threshold\n",
    "predicted_classes = (predictions > 0.5).astype(int).flatten()"
   ]
  },
  {
   "cell_type": "code",
   "execution_count": null,
   "id": "af7ff753-31ec-42e3-b859-9bf0a6941745",
   "metadata": {},
   "outputs": [],
   "source": [
    "# For multi-class classification\n",
    "predicted_classes = np.argmax(predictions, axis=-1)\n"
   ]
  },
  {
   "cell_type": "code",
   "execution_count": null,
   "id": "520022cc-39e5-4ef9-a771-0734408391d1",
   "metadata": {},
   "outputs": [],
   "source": []
  }
 ],
 "metadata": {
  "kernelspec": {
   "display_name": "Python 3 (ipykernel)",
   "language": "python",
   "name": "python3"
  },
  "language_info": {
   "codemirror_mode": {
    "name": "ipython",
    "version": 3
   },
   "file_extension": ".py",
   "mimetype": "text/x-python",
   "name": "python",
   "nbconvert_exporter": "python",
   "pygments_lexer": "ipython3",
   "version": "3.11.0rc1"
  }
 },
 "nbformat": 4,
 "nbformat_minor": 5
}
